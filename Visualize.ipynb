{
 "cells": [
  {
   "cell_type": "code",
   "execution_count": 3,
   "id": "86f6c099-ce7d-45eb-8245-c9060437cca1",
   "metadata": {},
   "outputs": [],
   "source": [
    "import pylab as plt \n",
    "import pandas as pd\n",
    "import numpy as np\n",
    "from astropy.constants import R_earth, m_e, c\n",
    "from astropy import units\n",
    "from tqdm import tqdm\n",
    "from scipy.constants import elementary_charge"
   ]
  },
  {
   "cell_type": "code",
   "execution_count": null,
   "id": "8255b0b4-9ad2-46b6-addc-486cc0d505cb",
   "metadata": {},
   "outputs": [],
   "source": [
    "from plotting_utils import add_earth"
   ]
  },
  {
   "cell_type": "code",
   "execution_count": 2,
   "id": "b4a49d0c-e962-46eb-b5bc-11a990da2354",
   "metadata": {},
   "outputs": [],
   "source": [
    "def plot(df_sub, fname=None):\n",
    "    plt.figure(figsize=(10, 5))\n",
    "    plt.subplot(121)\n",
    "    cmap = plt.get_cmap('viridis')\n",
    "    for i in [0]:#range(50, 500, 50):\n",
    "        plt.scatter(df_sub[f'x{i}'], df_sub[f'z{i}'], c=cmap(np.linspace(0, 1, len(df_sub.index))))\n",
    "\n",
    "    plt.xlabel('X (SM)')\n",
    "    plt.ylabel('Z (SM)')\n",
    "    plt.axhline(0, color='k')\n",
    "    plt.axvline(0, color='k')\n",
    "    plt.xlim(-1, 7)\n",
    "    plt.ylim(-3, 3)\n",
    "    add_earth()\n",
    "    plt.gca().set_aspect(\"equal\")\n",
    "        \n",
    "    plt.subplot(122)\n",
    "    cmap = plt.get_cmap('viridis')\n",
    "    for i in [0]:#range(50, 500, 50):\n",
    "        plt.scatter(df_sub[f'x{i}'], df_sub[f'y{i}'], c=cmap(np.linspace(0, 1, len(df_sub.index))))\n",
    "\n",
    "    plt.xlabel('X (SM)')\n",
    "    plt.ylabel('Y (SM)')\n",
    "    plt.xlim(-1, 7)\n",
    "    plt.ylim(-7, 7)\n",
    "    plt.axhline(0, color='k')\n",
    "    plt.axvline(0, color='k')\n",
    "    add_earth()\n",
    "    plt.gca().set_aspect(\"equal\")\n",
    "    \n",
    "    if fname:\n",
    "        plt.savefig(fname)\n",
    "        plt.close()\n"
   ]
  },
  {
   "cell_type": "code",
   "execution_count": 16,
   "id": "a4380ff7-aa27-4223-b813-367637f5f4d7",
   "metadata": {},
   "outputs": [
    {
     "name": "stdout",
     "output_type": "stream",
     "text": [
      "215\n"
     ]
    }
   ],
   "source": [
    "df = pd.read_csv('data/test_dipole.csv')\n",
    "print(len(df.index))"
   ]
  },
  {
   "cell_type": "code",
   "execution_count": 17,
   "id": "e3f64478-af16-48b9-9514-fe39b1475286",
   "metadata": {},
   "outputs": [
    {
     "data": {
      "text/html": [
       "<div>\n",
       "<style scoped>\n",
       "    .dataframe tbody tr th:only-of-type {\n",
       "        vertical-align: middle;\n",
       "    }\n",
       "\n",
       "    .dataframe tbody tr th {\n",
       "        vertical-align: top;\n",
       "    }\n",
       "\n",
       "    .dataframe thead th {\n",
       "        text-align: right;\n",
       "    }\n",
       "</style>\n",
       "<table border=\"1\" class=\"dataframe\">\n",
       "  <thead>\n",
       "    <tr style=\"text-align: right;\">\n",
       "      <th></th>\n",
       "      <th>Unnamed: 0</th>\n",
       "      <th>t0</th>\n",
       "      <th>x0</th>\n",
       "      <th>y0</th>\n",
       "      <th>z0</th>\n",
       "      <th>ppar0</th>\n",
       "      <th>B0</th>\n",
       "      <th>W0</th>\n",
       "      <th>h0</th>\n",
       "      <th>t50</th>\n",
       "      <th>...</th>\n",
       "      <th>W400</th>\n",
       "      <th>h400</th>\n",
       "      <th>t450</th>\n",
       "      <th>x450</th>\n",
       "      <th>y450</th>\n",
       "      <th>z450</th>\n",
       "      <th>ppar450</th>\n",
       "      <th>B450</th>\n",
       "      <th>W450</th>\n",
       "      <th>h450</th>\n",
       "    </tr>\n",
       "  </thead>\n",
       "  <tbody>\n",
       "    <tr>\n",
       "      <th>0</th>\n",
       "      <td>0</td>\n",
       "      <td>0.010000</td>\n",
       "      <td>5.999999</td>\n",
       "      <td>0.000113</td>\n",
       "      <td>0.003401</td>\n",
       "      <td>0.408248</td>\n",
       "      <td>-11.066032</td>\n",
       "      <td>0.197573</td>\n",
       "      <td>0.017223</td>\n",
       "      <td>0.010000</td>\n",
       "      <td>...</td>\n",
       "      <td>0.196622</td>\n",
       "      <td>0.017229</td>\n",
       "      <td>0.010000</td>\n",
       "      <td>6.013499</td>\n",
       "      <td>0.000113</td>\n",
       "      <td>0.003403</td>\n",
       "      <td>0.408248</td>\n",
       "      <td>-10.964289</td>\n",
       "      <td>0.196546</td>\n",
       "      <td>0.017229</td>\n",
       "    </tr>\n",
       "    <tr>\n",
       "      <th>1</th>\n",
       "      <td>1</td>\n",
       "      <td>0.027223</td>\n",
       "      <td>5.999988</td>\n",
       "      <td>0.000307</td>\n",
       "      <td>0.009258</td>\n",
       "      <td>0.408246</td>\n",
       "      <td>-11.066063</td>\n",
       "      <td>0.197573</td>\n",
       "      <td>0.025894</td>\n",
       "      <td>0.027223</td>\n",
       "      <td>...</td>\n",
       "      <td>0.196621</td>\n",
       "      <td>0.025907</td>\n",
       "      <td>0.027229</td>\n",
       "      <td>6.013488</td>\n",
       "      <td>0.000309</td>\n",
       "      <td>0.009268</td>\n",
       "      <td>0.408246</td>\n",
       "      <td>-10.964316</td>\n",
       "      <td>0.196545</td>\n",
       "      <td>0.025909</td>\n",
       "    </tr>\n",
       "    <tr>\n",
       "      <th>2</th>\n",
       "      <td>2</td>\n",
       "      <td>0.053117</td>\n",
       "      <td>5.999945</td>\n",
       "      <td>0.000600</td>\n",
       "      <td>0.018066</td>\n",
       "      <td>0.408239</td>\n",
       "      <td>-11.066249</td>\n",
       "      <td>0.197572</td>\n",
       "      <td>0.035155</td>\n",
       "      <td>0.053116</td>\n",
       "      <td>...</td>\n",
       "      <td>0.196621</td>\n",
       "      <td>0.035179</td>\n",
       "      <td>0.053139</td>\n",
       "      <td>6.013445</td>\n",
       "      <td>0.000602</td>\n",
       "      <td>0.018089</td>\n",
       "      <td>0.408239</td>\n",
       "      <td>-10.964488</td>\n",
       "      <td>0.196545</td>\n",
       "      <td>0.035183</td>\n",
       "    </tr>\n",
       "    <tr>\n",
       "      <th>3</th>\n",
       "      <td>3</td>\n",
       "      <td>0.088272</td>\n",
       "      <td>5.999834</td>\n",
       "      <td>0.000997</td>\n",
       "      <td>0.030027</td>\n",
       "      <td>0.408221</td>\n",
       "      <td>-11.066785</td>\n",
       "      <td>0.197571</td>\n",
       "      <td>0.044212</td>\n",
       "      <td>0.088268</td>\n",
       "      <td>...</td>\n",
       "      <td>0.196620</td>\n",
       "      <td>0.044248</td>\n",
       "      <td>0.088321</td>\n",
       "      <td>6.013334</td>\n",
       "      <td>0.001002</td>\n",
       "      <td>0.030070</td>\n",
       "      <td>0.408221</td>\n",
       "      <td>-10.964986</td>\n",
       "      <td>0.196544</td>\n",
       "      <td>0.044254</td>\n",
       "    </tr>\n",
       "    <tr>\n",
       "      <th>4</th>\n",
       "      <td>4</td>\n",
       "      <td>0.132484</td>\n",
       "      <td>5.999604</td>\n",
       "      <td>0.001496</td>\n",
       "      <td>0.045074</td>\n",
       "      <td>0.408183</td>\n",
       "      <td>-11.067945</td>\n",
       "      <td>0.197570</td>\n",
       "      <td>0.052502</td>\n",
       "      <td>0.132477</td>\n",
       "      <td>...</td>\n",
       "      <td>0.196618</td>\n",
       "      <td>0.052549</td>\n",
       "      <td>0.132575</td>\n",
       "      <td>6.013104</td>\n",
       "      <td>0.001504</td>\n",
       "      <td>0.045145</td>\n",
       "      <td>0.408184</td>\n",
       "      <td>-10.966067</td>\n",
       "      <td>0.196542</td>\n",
       "      <td>0.052556</td>\n",
       "    </tr>\n",
       "  </tbody>\n",
       "</table>\n",
       "<p>5 rows × 81 columns</p>\n",
       "</div>"
      ],
      "text/plain": [
       "   Unnamed: 0        t0        x0        y0        z0     ppar0         B0  \\\n",
       "0           0  0.010000  5.999999  0.000113  0.003401  0.408248 -11.066032   \n",
       "1           1  0.027223  5.999988  0.000307  0.009258  0.408246 -11.066063   \n",
       "2           2  0.053117  5.999945  0.000600  0.018066  0.408239 -11.066249   \n",
       "3           3  0.088272  5.999834  0.000997  0.030027  0.408221 -11.066785   \n",
       "4           4  0.132484  5.999604  0.001496  0.045074  0.408183 -11.067945   \n",
       "\n",
       "         W0        h0       t50  ...      W400      h400      t450      x450  \\\n",
       "0  0.197573  0.017223  0.010000  ...  0.196622  0.017229  0.010000  6.013499   \n",
       "1  0.197573  0.025894  0.027223  ...  0.196621  0.025907  0.027229  6.013488   \n",
       "2  0.197572  0.035155  0.053116  ...  0.196621  0.035179  0.053139  6.013445   \n",
       "3  0.197571  0.044212  0.088268  ...  0.196620  0.044248  0.088321  6.013334   \n",
       "4  0.197570  0.052502  0.132477  ...  0.196618  0.052549  0.132575  6.013104   \n",
       "\n",
       "       y450      z450   ppar450       B450      W450      h450  \n",
       "0  0.000113  0.003403  0.408248 -10.964289  0.196546  0.017229  \n",
       "1  0.000309  0.009268  0.408246 -10.964316  0.196545  0.025909  \n",
       "2  0.000602  0.018089  0.408239 -10.964488  0.196545  0.035183  \n",
       "3  0.001002  0.030070  0.408221 -10.964986  0.196544  0.044254  \n",
       "4  0.001504  0.045145  0.408184 -10.966067  0.196542  0.052556  \n",
       "\n",
       "[5 rows x 81 columns]"
      ]
     },
     "execution_count": 17,
     "metadata": {},
     "output_type": "execute_result"
    }
   ],
   "source": [
    "df.head()"
   ]
  },
  {
   "cell_type": "code",
   "execution_count": 18,
   "id": "9caa3542-a4b7-442b-8b9b-d6bcbef645a0",
   "metadata": {},
   "outputs": [
    {
     "data": {
      "text/plain": [
       "Text(0.5, 0, 'Time (seconds)')"
      ]
     },
     "execution_count": 18,
     "metadata": {},
     "output_type": "execute_result"
    },
    {
     "data": {
      "image/png": "[encoded data removed]",
      "text/plain": [
       "<Figure size 800x800 with 4 Axes>"
      ]
     },
     "metadata": {
      "needs_background": "light"
     },
     "output_type": "display_data"
    }
   ],
   "source": [
    "sf = c / R_earth\n",
    "t = (df['t0'].values / sf).to(units.s).value\n",
    "\n",
    "q = - elementary_charge * units.C\n",
    "sf = (q * R_earth / (m_e * c**2))\n",
    "B = (df['B0'].values * units.s/ R_earth / sf).to(units.nT)\n",
    "\n",
    "p = df['ppar0'].values\n",
    "W = (df['W0'].values * (m_e * c**2)).to(units.MeV).value\n",
    "\n",
    "fig, axes = plt.subplots(4, 1,sharex=True, figsize=(8, 8), dpi=100)\n",
    "axes[0].plot(t, B, '-')\n",
    "axes[0].set_ylabel('B\\n(nT)')\n",
    "axes[1].plot(t, p, '-')\n",
    "axes[1].set_ylabel(r'$p_\\parallel$' +'\\n(dimensionalized)')\n",
    "axes[1].axhline(0, color='k')\n",
    "axes[2].plot(t, df['h0'], '-')\n",
    "axes[2].set_ylabel('Adaptive Step Size')\n",
    "axes[3].plot(t, W, '-')\n",
    "axes[3].set_ylabel('W\\n(MeV)')\n",
    "axes[3].set_ylim(0, W.max() * 1.1)\n",
    "axes[3].set_xlabel('Time (seconds)')"
   ]
  },
  {
   "cell_type": "code",
   "execution_count": 48,
   "id": "93dba507-b6f1-414e-bfc4-848c67ee5c63",
   "metadata": {},
   "outputs": [
    {
     "data": {
      "text/plain": [
       "array([6.85713908, 6.8571386 , 6.8571374 , ..., 6.85459654, 6.85459249,\n",
       "       6.85458843])"
      ]
     },
     "execution_count": 48,
     "metadata": {},
     "output_type": "execute_result"
    }
   ],
   "source": [
    "W"
   ]
  },
  {
   "cell_type": "code",
   "execution_count": null,
   "id": "c974b3c2-0b2b-4aca-bbab-3033bbfaa10a",
   "metadata": {},
   "outputs": [],
   "source": []
  },
  {
   "cell_type": "code",
   "execution_count": null,
   "id": "e5c2b7cc-727c-45e5-8e37-5cd8893c5834",
   "metadata": {},
   "outputs": [],
   "source": []
  },
  {
   "cell_type": "code",
   "execution_count": 62,
   "id": "9b620efe-a9c5-4ab2-b0b0-bc91d33e511a",
   "metadata": {},
   "outputs": [
    {
     "data": {
      "image/png": "[encoded data removed]",
      "text/plain": [
       "<Figure size 720x360 with 2 Axes>"
      ]
     },
     "metadata": {
      "needs_background": "light"
     },
     "output_type": "display_data"
    }
   ],
   "source": [
    "plot(df)"
   ]
  },
  {
   "cell_type": "code",
   "execution_count": null,
   "id": "03ebddbc-d318-4908-add9-fe8ad3ba0d84",
   "metadata": {
    "scrolled": true,
    "tags": []
   },
   "outputs": [
    {
     "name": "stdout",
     "output_type": "stream",
     "text": [
      "Tasks: 81671\n"
     ]
    },
    {
     "name": "stderr",
     "output_type": "stream",
     "text": [
      "[Parallel(n_jobs=-1)]: Using backend LokyBackend with 4 concurrent workers.\n",
      "[Parallel(n_jobs=-1)]: Done  42 tasks      | elapsed:    4.9s\n",
      "[Parallel(n_jobs=-1)]: Done 192 tasks      | elapsed:   16.8s\n",
      "[Parallel(n_jobs=-1)]: Done 442 tasks      | elapsed:   36.7s\n",
      "[Parallel(n_jobs=-1)]: Done 792 tasks      | elapsed:  1.1min\n",
      "[Parallel(n_jobs=-1)]: Done 1242 tasks      | elapsed:  1.7min\n",
      "[Parallel(n_jobs=-1)]: Done 1792 tasks      | elapsed:  2.4min\n",
      "[Parallel(n_jobs=-1)]: Done 2442 tasks      | elapsed:  3.3min\n",
      "[Parallel(n_jobs=-1)]: Done 3192 tasks      | elapsed:  4.3min\n",
      "[Parallel(n_jobs=-1)]: Done 4042 tasks      | elapsed:  5.4min\n",
      "[Parallel(n_jobs=-1)]: Done 4992 tasks      | elapsed:  6.7min\n",
      "[Parallel(n_jobs=-1)]: Done 6042 tasks      | elapsed:  8.0min\n",
      "[Parallel(n_jobs=-1)]: Done 7192 tasks      | elapsed:  9.6min\n",
      "[Parallel(n_jobs=-1)]: Done 8442 tasks      | elapsed: 11.2min\n",
      "[Parallel(n_jobs=-1)]: Done 9792 tasks      | elapsed: 13.0min\n",
      "[Parallel(n_jobs=-1)]: Done 11242 tasks      | elapsed: 15.0min\n",
      "[Parallel(n_jobs=-1)]: Done 12792 tasks      | elapsed: 17.0min\n",
      "[Parallel(n_jobs=-1)]: Done 14442 tasks      | elapsed: 19.2min\n",
      "[Parallel(n_jobs=-1)]: Done 16192 tasks      | elapsed: 21.5min\n",
      "[Parallel(n_jobs=-1)]: Done 18042 tasks      | elapsed: 24.0min\n",
      "[Parallel(n_jobs=-1)]: Done 19992 tasks      | elapsed: 26.5min\n",
      "[Parallel(n_jobs=-1)]: Done 22042 tasks      | elapsed: 29.3min\n",
      "[Parallel(n_jobs=-1)]: Done 24192 tasks      | elapsed: 32.1min\n",
      "[Parallel(n_jobs=-1)]: Done 26442 tasks      | elapsed: 35.1min\n",
      "[Parallel(n_jobs=-1)]: Done 28792 tasks      | elapsed: 38.2min\n"
     ]
    }
   ],
   "source": [
    "import joblib\n",
    "tasks = []\n",
    "\n",
    "for i in range(len(df.index)):\n",
    "    tasks.append(joblib.delayed(plot)(df.iloc[i:i+100], 'plots/%04d.png' % i))\n",
    "    \n",
    "print(f'Tasks: {len(tasks)}')\n",
    "\n",
    "joblib.Parallel(n_jobs=-1, verbose=1)(tasks)"
   ]
  },
  {
   "cell_type": "code",
   "execution_count": null,
   "id": "3001e5db-28cf-4601-bbac-b4139ff9fb0e",
   "metadata": {},
   "outputs": [],
   "source": []
  },
  {
   "cell_type": "code",
   "execution_count": null,
   "id": "770397b4-8e13-43e5-aa9b-4b280534139a",
   "metadata": {},
   "outputs": [],
   "source": []
  }
 ],
 "metadata": {
  "kernelspec": {
   "display_name": "Python 3",
   "language": "python",
   "name": "python3"
  },
  "language_info": {
   "codemirror_mode": {
    "name": "ipython",
    "version": 3
   },
   "file_extension": ".py",
   "mimetype": "text/x-python",
   "name": "python",
   "nbconvert_exporter": "python",
   "pygments_lexer": "ipython3",
   "version": "3.6.9"
  }
 },
 "nbformat": 4,
 "nbformat_minor": 5
}
