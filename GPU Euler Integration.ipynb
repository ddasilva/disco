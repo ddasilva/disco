{
 "cells": [
  {
   "cell_type": "code",
   "execution_count": null,
   "id": "89593c07-cfe5-4a71-9832-80c4fcfa5da7",
   "metadata": {},
   "outputs": [],
   "source": [
    "import numpy as np\n",
    "import cupy as cp\n",
    "from cupyx import jit\n",
    "import pylab as plt\n",
    "import time"
   ]
  },
  {
   "cell_type": "code",
   "execution_count": null,
   "id": "5a98b078-1f36-4cbd-92b0-2df0cf0d2597",
   "metadata": {},
   "outputs": [],
   "source": [
    "@jit.rawkernel()\n",
    "def mykernel(pos, vel, posout, velout):\n",
    "    row = jit.blockIdx.x * jit.blockDim.x + jit.threadIdx.x;\n",
    "    dt = 1;  \n",
    "    mu = 398600;\n",
    "    \n",
    "    xin = pos[row, 0]\n",
    "    yin = pos[row, 1]\n",
    "    zin = pos[row, 2]\n",
    "    vxin = vel[row, 0]\n",
    "    vyin = vel[row, 1]\n",
    "    vzin = vel[row, 2]\n",
    "\n",
    "    posout[row, 0] = xin + dt * vxin\n",
    "    posout[row, 1] = yin + dt * vyin\n",
    "    posout[row, 2] = zin + dt * vzin\n",
    "\n",
    "    r = cp.sqrt(xin*xin + yin*yin + zin*zin)\n",
    "    ax = - mu * xin / r**3\n",
    "    ay = - mu * yin / r**3\n",
    "    az = - mu * zin / r**3\n",
    "        \n",
    "    velout[row, 0] = vxin + dt * ax\n",
    "    velout[row, 1] = vyin + dt * ay\n",
    "    velout[row, 2] = vzin + dt * az"
   ]
  },
  {
   "cell_type": "code",
   "execution_count": null,
   "id": "ca47024d-a44d-4299-84fd-46cdc6016f26",
   "metadata": {},
   "outputs": [],
   "source": [
    "# Initialize\n",
    "npartices = 100_000\n",
    "nsteps = 100\n",
    "\n",
    "pos = np.zeros((npartices, 3))\n",
    "pos[:, 0] = 0\n",
    "pos[:, 1] = 0\n",
    "pos[:, 2] = 6378.14 # 1 Re in km\n",
    "pos = cp.array(pos)\n",
    "\n",
    "vel = np.zeros((npartices, 3)) \n",
    "vel[:, 0] = -7.6  # km/s\n",
    "vel[:, 1] = 0\n",
    "vel[:, 2] = 0\n",
    "vel = cp.array(vel)\n",
    "\n",
    "posout = cp.zeros(pos.shape)\n",
    "velout = cp.zeros(vel.shape)\n",
    "\n",
    "# Define the block and grid dimensions\n",
    "threads_per_block = 1024\n",
    "blocks_per_grid = ( (pos.shape[0] + threads_per_block - 1) // threads_per_block, )"
   ]
  },
  {
   "cell_type": "code",
   "execution_count": null,
   "id": "1905dcdb-081a-460e-b0ea-bf2347e30fb2",
   "metadata": {},
   "outputs": [],
   "source": [
    "assert not np.isnan(pos.get()).any() \n",
    "assert not np.isnan(vel.get()).any()"
   ]
  },
  {
   "cell_type": "code",
   "execution_count": null,
   "id": "746b22b1-e4d2-4ef2-bedd-1c21bfde9611",
   "metadata": {},
   "outputs": [],
   "source": [
    "start_time = time.time()\n",
    "\n",
    "vel_hist = []\n",
    "pos_hist = []\n",
    "\n",
    "for i in range(nsteps):\n",
    "    pos_hist.append(pos.copy().get())\n",
    "    vel_hist.append(pos.copy().get())\n",
    "    mykernel(blocks_per_grid, (threads_per_block,), (pos, vel, posout, velout))\n",
    "    pos = posout.copy()\n",
    "    vel = velout.copy()\n",
    "    \n",
    "vel_hist = np.array(vel_hist)\n",
    "pos_hist = np.array(pos_hist) /  6378.14\n",
    "\n",
    "print(f'Took {time.time() - start_time} sec')"
   ]
  },
  {
   "cell_type": "code",
   "execution_count": null,
   "id": "c8ff3574-479a-4481-9aad-368264df5f65",
   "metadata": {},
   "outputs": [],
   "source": [
    "plt.plot(pos_hist[:, 0, 0],\n",
    "         pos_hist[:, 0, 2],\n",
    "         '.-')\n",
    "plt.xlabel('X ($R_E$)')\n",
    "plt.ylabel('Z ($R_E$)')"
   ]
  },
  {
   "cell_type": "code",
   "execution_count": null,
   "id": "0d5495bd-720a-4fd8-bf39-77325fad8201",
   "metadata": {},
   "outputs": [],
   "source": [
    "plt.plot(vel_hist[:, 0, 0], label='Vx')\n",
    "plt.plot(vel_hist[:, 0, 1], label='Vy')\n",
    "plt.plot(vel_hist[:, 0, 2], label='Vz')\n",
    "plt.legend()\n",
    "plt.ylabel('Velocity (km/s)')"
   ]
  },
  {
   "cell_type": "code",
   "execution_count": null,
   "id": "c15c6e94-2d9d-4126-aa73-daf5ea0dd9a0",
   "metadata": {},
   "outputs": [],
   "source": []
  }
 ],
 "metadata": {
  "kernelspec": {
   "display_name": "Python 3",
   "language": "python",
   "name": "python3"
  },
  "language_info": {
   "codemirror_mode": {
    "name": "ipython",
    "version": 3
   },
   "file_extension": ".py",
   "mimetype": "text/x-python",
   "name": "python",
   "nbconvert_exporter": "python",
   "pygments_lexer": "ipython3",
   "version": "3.6.9"
  }
 },
 "nbformat": 4,
 "nbformat_minor": 5
}
