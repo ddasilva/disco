{
 "cells": [
  {
   "cell_type": "code",
   "execution_count": 2,
   "id": "89593c07-cfe5-4a71-9832-80c4fcfa5da7",
   "metadata": {},
   "outputs": [],
   "source": [
    "import numpy as np\n",
    "import cupy as cp\n",
    "from cupyx import jit\n",
    "import pylab as plt\n",
    "import time"
   ]
  },
  {
   "cell_type": "code",
   "execution_count": 41,
   "id": "5a98b078-1f36-4cbd-92b0-2df0cf0d2597",
   "metadata": {},
   "outputs": [
    {
     "name": "stderr",
     "output_type": "stream",
     "text": [
      "/home/ubuntu/.local/lib/python3.6/site-packages/cupyx/jit/_interface.py:156: FutureWarning: cupyx.jit.rawkernel is experimental. The interface can change in the future.\n",
      "  cupy._util.experimental('cupyx.jit.rawkernel')\n"
     ]
    }
   ],
   "source": [
    "@jit.rawkernel()\n",
    "def mykernel(pos, vel, i, n):\n",
    "    row = jit.blockIdx.x * jit.blockDim.x + jit.threadIdx.x\n",
    "    dt = 10; \n",
    "    mu = 398600\n",
    "    \n",
    "    if row < n:    \n",
    "        xin = pos[row, i, 0]\n",
    "        yin = pos[row, i, 1]\n",
    "        zin = pos[row, i, 2]\n",
    "        vxin = vel[row, i, 0]\n",
    "        vyin = vel[row, i, 1]\n",
    "        vzin = vel[row, i, 2]\n",
    "\n",
    "        pos[row, i + 1, 0] = xin + dt * vxin\n",
    "        pos[row, i + 1, 1] = yin + dt * vyin\n",
    "        pos[row, i + 1, 2] = zin + dt * vzin\n",
    "\n",
    "        r = cp.sqrt(xin*xin + yin*yin + zin*zin)\n",
    "        ax = - mu * xin / r**3\n",
    "        ay = - mu * yin / r**3\n",
    "        az = - mu * zin / r**3\n",
    "\n",
    "        vel[row, i + 1, 0] = vxin + dt * ax\n",
    "        vel[row, i + 1, 1] = vyin + dt * ay\n",
    "        vel[row, i + 1, 2] = vzin + dt * az"
   ]
  },
  {
   "cell_type": "code",
   "execution_count": 47,
   "id": "ca47024d-a44d-4299-84fd-46cdc6016f26",
   "metadata": {},
   "outputs": [
    {
     "name": "stdout",
     "output_type": "stream",
     "text": [
      "1024\n",
      "(98,)\n"
     ]
    }
   ],
   "source": [
    "# Initialize\n",
    "npartices = 100_000\n",
    "nsteps = 50\n",
    "\n",
    "pos = np.zeros((npartices, nsteps, 3))\n",
    "pos[:, 0, 0] = 0\n",
    "pos[:, 0, 1] = 0\n",
    "pos[:, 0, 2] = 6378.14 # 1 Re in km\n",
    "pos = cp.array(pos)\n",
    "\n",
    "vel = np.zeros((npartices, nsteps, 3)) \n",
    "vel[:, 0, 0] = -7.6  # km/s\n",
    "vel[:, 0, 1] = 0\n",
    "vel[:, 0, 2] = 0\n",
    "vel = cp.array(vel)\n",
    "\n",
    "# Define the block and grid dimensions\n",
    "threads_per_block = 1024\n",
    "blocks_per_grid = ( (pos.shape[0] + threads_per_block - 1) // threads_per_block, )\n",
    "\n",
    "print(threads_per_block)\n",
    "print(blocks_per_grid)"
   ]
  },
  {
   "cell_type": "code",
   "execution_count": 31,
   "id": "1905dcdb-081a-460e-b0ea-bf2347e30fb2",
   "metadata": {},
   "outputs": [],
   "source": [
    "assert not np.isnan(pos.get()).any() \n",
    "assert not np.isnan(vel.get()).any()"
   ]
  },
  {
   "cell_type": "code",
   "execution_count": 46,
   "id": "746b22b1-e4d2-4ef2-bedd-1c21bfde9611",
   "metadata": {},
   "outputs": [
    {
     "name": "stdout",
     "output_type": "stream",
     "text": [
      "Took 0.14076495170593262 sec\n"
     ]
    }
   ],
   "source": [
    "start_time = time.time()\n",
    "\n",
    "for i in range(nsteps - 1):\n",
    "    mykernel(blocks_per_grid, (threads_per_block,), (pos, vel, i, pos.shape[0]))\n",
    "\n",
    "pos_history = pos.get()\n",
    "vel_history = vel.get()\n",
    "\n",
    "print(f'Took {time.time() - start_time} sec')"
   ]
  },
  {
   "cell_type": "code",
   "execution_count": 38,
   "id": "b971ffc8-4c0e-45ad-bd0c-6ba55456a901",
   "metadata": {},
   "outputs": [
    {
     "data": {
      "text/plain": [
       "(100000, 50, 3)"
      ]
     },
     "execution_count": 38,
     "metadata": {},
     "output_type": "execute_result"
    }
   ],
   "source": [
    "pos_history.shape"
   ]
  },
  {
   "cell_type": "code",
   "execution_count": 39,
   "id": "c8ff3574-479a-4481-9aad-368264df5f65",
   "metadata": {},
   "outputs": [
    {
     "data": {
      "text/plain": [
       "Text(0, 0.5, 'Z ($R_E$)')"
      ]
     },
     "execution_count": 39,
     "metadata": {},
     "output_type": "execute_result"
    },
    {
     "data": {
      "image/png": "[encoded data removed]",
      "text/plain": [
       "<Figure size 432x288 with 1 Axes>"
      ]
     },
     "metadata": {
      "needs_background": "light"
     },
     "output_type": "display_data"
    }
   ],
   "source": [
    "plt.plot(pos_history[0, :, 0] / 6378.14,\n",
    "         pos_history[0, :, 2] / 6378.14,\n",
    "         '.-')\n",
    "plt.xlabel('X ($R_E$)')\n",
    "plt.ylabel('Z ($R_E$)')"
   ]
  },
  {
   "cell_type": "code",
   "execution_count": 44,
   "id": "0d5495bd-720a-4fd8-bf39-77325fad8201",
   "metadata": {},
   "outputs": [
    {
     "data": {
      "text/plain": [
       "Text(0, 0.5, 'Velocity (km/s)')"
      ]
     },
     "execution_count": 44,
     "metadata": {},
     "output_type": "execute_result"
    },
    {
     "data": {
      "image/png": "[encoded data removed]",
      "text/plain": [
       "<Figure size 432x288 with 1 Axes>"
      ]
     },
     "metadata": {
      "needs_background": "light"
     },
     "output_type": "display_data"
    }
   ],
   "source": [
    "plt.plot(vel_history[0, :, 0], label='Vx')\n",
    "plt.plot(vel_history[0, :, 1], label='Vy')\n",
    "plt.plot(vel_history[0, :, 2], label='Vz')\n",
    "plt.legend()\n",
    "plt.ylabel('Velocity (km/s)')"
   ]
  },
  {
   "cell_type": "code",
   "execution_count": null,
   "id": "c15c6e94-2d9d-4126-aa73-daf5ea0dd9a0",
   "metadata": {},
   "outputs": [],
   "source": []
  }
 ],
 "metadata": {
  "kernelspec": {
   "display_name": "Python 3",
   "language": "python",
   "name": "python3"
  },
  "language_info": {
   "codemirror_mode": {
    "name": "ipython",
    "version": 3
   },
   "file_extension": ".py",
   "mimetype": "text/x-python",
   "name": "python",
   "nbconvert_exporter": "python",
   "pygments_lexer": "ipython3",
   "version": "3.6.9"
  }
 },
 "nbformat": 4,
 "nbformat_minor": 5
}
